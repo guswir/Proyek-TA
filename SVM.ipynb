{
 "cells": [
  {
   "cell_type": "code",
   "execution_count": 1,
   "id": "6b4d3128",
   "metadata": {},
   "outputs": [],
   "source": [
    "import pandas as pd\n",
    "import numpy as py\n",
    "from sklearn import preprocessing\n",
    "from sklearn.svm import SVC\n",
    "from sklearn.model_selection import train_test_split\n",
    "from sklearn.model_selection import KFold, cross_val_score\n",
    "from sklearn.metrics import precision_recall_fscore_support\n",
    "from sklearn.metrics import classification_report"
   ]
  },
  {
   "cell_type": "code",
   "execution_count": 2,
   "id": "53a8d1b3",
   "metadata": {},
   "outputs": [
    {
     "name": "stdout",
     "output_type": "stream",
     "text": [
      "Sistem Klasifikasi SVM\n",
      "----------------------\n",
      "\n",
      "Masukan metode yang diinginkan: \n",
      "1. Klasifikasi full fitur\n",
      "2. Klasifikasi dengan fitur seleksi chi square\n",
      "Pilihan: 2\n"
     ]
    }
   ],
   "source": [
    "print(\"Sistem Klasifikasi SVM\")\n",
    "print(\"----------------------\")\n",
    "print(\"\")\n",
    "print(\"Masukan metode yang diinginkan: \")\n",
    "print(\"1. Klasifikasi full fitur\")\n",
    "print(\"2. Klasifikasi dengan fitur seleksi chi square\")\n",
    "opt = int(input(\"Pilihan: \"))\n",
    "if (opt==1):\n",
    "    cols = list(pd.read_csv(\"DDoS_3.csv\", nrows=1))\n",
    "    dataset=pd.read_csv('DDoS_3.csv', usecols =[i for i in cols if i != \"Timestamp\"])\n",
    "    x=dataset.drop('Label', axis=1)\n",
    "    y=dataset['Label']\n",
    "    # df = pd.DataFrame(x)\n",
    "    # df=df.astype(float)\n",
    "    min_max_scaler = preprocessing.MinMaxScaler()\n",
    "    x_data = min_max_scaler.fit_transform(x)\n",
    "    data = pd.DataFrame(x_data)\n",
    "    y=y.replace({'Benign' : 0, 'DoS attacks-Hulk' : 1, 'DoS attacks-SlowHTTPTest' : 1})\n",
    "    x_train, x_test, y_train, y_test = train_test_split(data, y, test_size=0.2, random_state=0)\n",
    "elif (opt==2) :\n",
    "    cols = list(pd.read_csv(\"DDoS_2.csv\", nrows=1))\n",
    "    dataset=pd.read_csv('DDoS_2.csv', usecols =[i for i in cols if i != \"Timestamp\"])\n",
    "    x=dataset.drop('Label', axis=1)\n",
    "    y=dataset['Label']\n",
    "    # df = pd.DataFrame(x)\n",
    "    # df=df.astype(float)\n",
    "    min_max_scaler = preprocessing.MinMaxScaler()\n",
    "    x_data = min_max_scaler.fit_transform(x)\n",
    "    data = pd.DataFrame(x_data)\n",
    "    y=y.replace({'Benign' : 0, 'DoS attacks-Hulk' : 1, 'DoS attacks-SlowHTTPTest' : 1})\n",
    "    x_train, x_test, y_train, y_test = train_test_split(data, y, test_size=0.2, random_state=0)\n",
    "else :\n",
    "    print(\"Input salah\")"
   ]
  },
  {
   "cell_type": "code",
   "execution_count": 3,
   "id": "bd02584e",
   "metadata": {},
   "outputs": [
    {
     "name": "stdout",
     "output_type": "stream",
     "text": [
      "Program Klasifikasi SVM\n",
      "Masukan nilai Gamma: 1\n",
      "Masukan nilai Lambda: 1\n",
      "Masukan nilai C: 1\n"
     ]
    }
   ],
   "source": [
    "print (\"Program Klasifikasi SVM\")\n",
    "gam = float(input(\"Masukan nilai Gamma: \"))\n",
    "lam = float(input(\"Masukan nilai Lambda: \"))\n",
    "c = float(input(\"Masukan nilai C: \"))\n",
    "rms_svm = SVC(kernel='linear', gamma = gam, C= c/lam)\n",
    "accuracy=cross_val_score(estimator=rms_svm,X=x_train,y=y_train,cv=10)\n"
   ]
  },
  {
   "cell_type": "code",
   "execution_count": 4,
   "id": "86be9300",
   "metadata": {},
   "outputs": [
    {
     "name": "stdout",
     "output_type": "stream",
     "text": [
      "K-Fold  0 :  0.9999403952983812\n",
      "K-Fold  1 :  1.0\n",
      "K-Fold  2 :  1.0\n",
      "K-Fold  3 :  1.0\n",
      "K-Fold  4 :  1.0\n",
      "K-Fold  5 :  0.9999761581193525\n",
      "K-Fold  6 :  1.0\n",
      "K-Fold  7 :  0.999952316238705\n",
      "K-Fold  8 :  0.9999880790596762\n",
      "K-Fold  9 :  1.0\n",
      "Akurasi Rata-rata : 0.9999856948716115\n"
     ]
    }
   ],
   "source": [
    "for index, x in enumerate(accuracy):\n",
    "    print (\"K-Fold \", index, \": \", x)\n",
    "\n",
    "print(\"Akurasi Rata-rata :\",py.mean(accuracy))"
   ]
  },
  {
   "cell_type": "code",
   "execution_count": 13,
   "id": "8450c5d6",
   "metadata": {},
   "outputs": [
    {
     "name": "stdout",
     "output_type": "stream",
     "text": [
      "              precision    recall  f1-score   support\n",
      "\n",
      "           0       1.00      1.00      1.00     89363\n",
      "           1       1.00      1.00      1.00    120352\n",
      "\n",
      "    accuracy                           1.00    209715\n",
      "   macro avg       1.00      1.00      1.00    209715\n",
      "weighted avg       1.00      1.00      1.00    209715\n",
      "\n"
     ]
    }
   ],
   "source": [
    "from sklearn.metrics import classification_report\n",
    "rms_svm.fit(x_train,y_train)\n",
    "y_pred=rms_svm.predict(x_test)\n",
    "print(classification_report(y_test, y_pred, ))\n",
    "# print('Precision : ',result[0])\n",
    "# print('Recall : ', result[1])\n",
    "# print('F-measure : ', result[2])"
   ]
  },
  {
   "cell_type": "markdown",
   "id": "583db2f2",
   "metadata": {},
   "source": []
  }
 ],
 "metadata": {
  "kernelspec": {
   "display_name": "Python 3 (ipykernel)",
   "language": "python",
   "name": "python3"
  },
  "language_info": {
   "codemirror_mode": {
    "name": "ipython",
    "version": 3
   },
   "file_extension": ".py",
   "mimetype": "text/x-python",
   "name": "python",
   "nbconvert_exporter": "python",
   "pygments_lexer": "ipython3",
   "version": "3.10.9"
  }
 },
 "nbformat": 4,
 "nbformat_minor": 5
}
